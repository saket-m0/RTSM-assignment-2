{
 "cells": [
  {
   "cell_type": "code",
   "execution_count": 42,
   "metadata": {},
   "outputs": [],
   "source": [
    "import os\n",
    "import numpy as np\n",
    "import pandas as pd\n",
    "import matplotlib as plt\n",
    "from sklearn import tree,metrics\n",
    "import matplotlib.pyplot as plt\n",
    "import seaborn as sns\n",
    "%matplotlib inline\n",
    "from sklearn.metrics import confusion_matrix \n",
    "from sklearn.linear_model import LinearRegression\n",
    "from sklearn.linear_model import LinearRegression\n",
    "from sklearn.metrics import r2_score\n",
    "from sklearn.preprocessing import PolynomialFeatures\n",
    "from scipy import stats\n",
    "pd.set_option('display.max_columns', None)\n",
    "pd.set_option('display.max_rows', None)\n",
    "sns.set(rc={'figure.figsize':(15,10)})\n",
    "pd.options.display.float_format = \"{:,.5f}\".format"
   ]
  },
  {
   "cell_type": "code",
   "execution_count": 43,
   "metadata": {},
   "outputs": [
    {
     "data": {
      "text/html": [
       "<div>\n",
       "<style scoped>\n",
       "    .dataframe tbody tr th:only-of-type {\n",
       "        vertical-align: middle;\n",
       "    }\n",
       "\n",
       "    .dataframe tbody tr th {\n",
       "        vertical-align: top;\n",
       "    }\n",
       "\n",
       "    .dataframe thead th {\n",
       "        text-align: right;\n",
       "    }\n",
       "</style>\n",
       "<table border=\"1\" class=\"dataframe\">\n",
       "  <thead>\n",
       "    <tr style=\"text-align: right;\">\n",
       "      <th></th>\n",
       "      <th>y</th>\n",
       "      <th>x1</th>\n",
       "      <th>x2</th>\n",
       "      <th>x3</th>\n",
       "      <th>x4</th>\n",
       "    </tr>\n",
       "  </thead>\n",
       "  <tbody>\n",
       "    <tr>\n",
       "      <th>1</th>\n",
       "      <td>0.56079</td>\n",
       "      <td>0.54987</td>\n",
       "      <td>9</td>\n",
       "      <td>0.07745</td>\n",
       "      <td>0.23123</td>\n",
       "    </tr>\n",
       "    <tr>\n",
       "      <th>2</th>\n",
       "      <td>0.06453</td>\n",
       "      <td>0.60443</td>\n",
       "      <td>7</td>\n",
       "      <td>0.90524</td>\n",
       "      <td>0.80497</td>\n",
       "    </tr>\n",
       "    <tr>\n",
       "      <th>3</th>\n",
       "      <td>-1.14136</td>\n",
       "      <td>1.12974</td>\n",
       "      <td>8</td>\n",
       "      <td>0.93199</td>\n",
       "      <td>0.98239</td>\n",
       "    </tr>\n",
       "    <tr>\n",
       "      <th>4</th>\n",
       "      <td>-0.68712</td>\n",
       "      <td>0.31151</td>\n",
       "      <td>10</td>\n",
       "      <td>0.76024</td>\n",
       "      <td>0.62593</td>\n",
       "    </tr>\n",
       "    <tr>\n",
       "      <th>5</th>\n",
       "      <td>-0.97936</td>\n",
       "      <td>1.04509</td>\n",
       "      <td>13</td>\n",
       "      <td>0.36511</td>\n",
       "      <td>0.56489</td>\n",
       "    </tr>\n",
       "  </tbody>\n",
       "</table>\n",
       "</div>"
      ],
      "text/plain": [
       "         y      x1  x2      x3      x4\n",
       "1  0.56079 0.54987   9 0.07745 0.23123\n",
       "2  0.06453 0.60443   7 0.90524 0.80497\n",
       "3 -1.14136 1.12974   8 0.93199 0.98239\n",
       "4 -0.68712 0.31151  10 0.76024 0.62593\n",
       "5 -0.97936 1.04509  13 0.36511 0.56489"
      ]
     },
     "execution_count": 43,
     "metadata": {},
     "output_type": "execute_result"
    }
   ],
   "source": [
    "df = pd.read_csv('data1.txt', sep = ' ')\n",
    "df.head()"
   ]
  },
  {
   "cell_type": "code",
   "execution_count": 44,
   "metadata": {},
   "outputs": [
    {
     "data": {
      "text/html": [
       "<div>\n",
       "<style scoped>\n",
       "    .dataframe tbody tr th:only-of-type {\n",
       "        vertical-align: middle;\n",
       "    }\n",
       "\n",
       "    .dataframe tbody tr th {\n",
       "        vertical-align: top;\n",
       "    }\n",
       "\n",
       "    .dataframe thead th {\n",
       "        text-align: right;\n",
       "    }\n",
       "</style>\n",
       "<table border=\"1\" class=\"dataframe\">\n",
       "  <thead>\n",
       "    <tr style=\"text-align: right;\">\n",
       "      <th></th>\n",
       "      <th>y</th>\n",
       "      <th>x1</th>\n",
       "      <th>x2</th>\n",
       "      <th>x3</th>\n",
       "      <th>x4</th>\n",
       "    </tr>\n",
       "  </thead>\n",
       "  <tbody>\n",
       "    <tr>\n",
       "      <th>count</th>\n",
       "      <td>250.00000</td>\n",
       "      <td>250.00000</td>\n",
       "      <td>250.00000</td>\n",
       "      <td>250.00000</td>\n",
       "      <td>250.00000</td>\n",
       "    </tr>\n",
       "    <tr>\n",
       "      <th>mean</th>\n",
       "      <td>0.00918</td>\n",
       "      <td>0.64416</td>\n",
       "      <td>10.50000</td>\n",
       "      <td>0.52670</td>\n",
       "      <td>0.56183</td>\n",
       "    </tr>\n",
       "    <tr>\n",
       "      <th>std</th>\n",
       "      <td>0.97997</td>\n",
       "      <td>0.44027</td>\n",
       "      <td>3.43295</td>\n",
       "      <td>0.36804</td>\n",
       "      <td>0.29502</td>\n",
       "    </tr>\n",
       "    <tr>\n",
       "      <th>min</th>\n",
       "      <td>-2.58914</td>\n",
       "      <td>0.01698</td>\n",
       "      <td>3.00000</td>\n",
       "      <td>0.00001</td>\n",
       "      <td>0.01505</td>\n",
       "    </tr>\n",
       "    <tr>\n",
       "      <th>25%</th>\n",
       "      <td>-0.66612</td>\n",
       "      <td>0.32712</td>\n",
       "      <td>9.00000</td>\n",
       "      <td>0.14640</td>\n",
       "      <td>0.29964</td>\n",
       "    </tr>\n",
       "    <tr>\n",
       "      <th>50%</th>\n",
       "      <td>0.03514</td>\n",
       "      <td>0.55060</td>\n",
       "      <td>10.00000</td>\n",
       "      <td>0.56738</td>\n",
       "      <td>0.56894</td>\n",
       "    </tr>\n",
       "    <tr>\n",
       "      <th>75%</th>\n",
       "      <td>0.54708</td>\n",
       "      <td>0.88052</td>\n",
       "      <td>12.00000</td>\n",
       "      <td>0.90672</td>\n",
       "      <td>0.79214</td>\n",
       "    </tr>\n",
       "    <tr>\n",
       "      <th>max</th>\n",
       "      <td>5.50000</td>\n",
       "      <td>2.62514</td>\n",
       "      <td>35.00000</td>\n",
       "      <td>0.99997</td>\n",
       "      <td>1.35132</td>\n",
       "    </tr>\n",
       "  </tbody>\n",
       "</table>\n",
       "</div>"
      ],
      "text/plain": [
       "              y        x1        x2        x3        x4\n",
       "count 250.00000 250.00000 250.00000 250.00000 250.00000\n",
       "mean    0.00918   0.64416  10.50000   0.52670   0.56183\n",
       "std     0.97997   0.44027   3.43295   0.36804   0.29502\n",
       "min    -2.58914   0.01698   3.00000   0.00001   0.01505\n",
       "25%    -0.66612   0.32712   9.00000   0.14640   0.29964\n",
       "50%     0.03514   0.55060  10.00000   0.56738   0.56894\n",
       "75%     0.54708   0.88052  12.00000   0.90672   0.79214\n",
       "max     5.50000   2.62514  35.00000   0.99997   1.35132"
      ]
     },
     "execution_count": 44,
     "metadata": {},
     "output_type": "execute_result"
    }
   ],
   "source": [
    "df.describe()"
   ]
  },
  {
   "cell_type": "code",
   "execution_count": 45,
   "metadata": {},
   "outputs": [],
   "source": [
    "def removeOutliers(df):\n",
    "    z_scores = stats.zscore(df)\n",
    "    abs_z_scores = np.abs(z_scores)\n",
    "    filtered_entries = (abs_z_scores < 2).all(axis=1)\n",
    "    new_df = df[filtered_entries]\n",
    "    return new_df\n",
    "\n",
    "new_df = removeOutliers(df)"
   ]
  },
  {
   "cell_type": "code",
   "execution_count": 46,
   "metadata": {},
   "outputs": [],
   "source": [
    "def regress(X, y):\n",
    "    poly_reg = PolynomialFeatures(degree=2)\n",
    "    X_poly = poly_reg.fit_transform(X)\n",
    "    arr=[1,2,3,4,5]\n",
    "    for i in arr:\n",
    "        poly_reg = PolynomialFeatures(degree=i)\n",
    "        X_poly = poly_reg.fit_transform(X)\n",
    "        lin_reg_2 = LinearRegression()\n",
    "        lin_reg_2.fit(X_poly, y)\n",
    "        y_pred = lin_reg_2.predict(X_poly)\n",
    "        print(r2_score(y, y_pred))"
   ]
  },
  {
   "cell_type": "code",
   "execution_count": 47,
   "metadata": {},
   "outputs": [
    {
     "data": {
      "text/plain": [
       "[<matplotlib.lines.Line2D at 0x1f2ceb9fec8>]"
      ]
     },
     "execution_count": 47,
     "metadata": {},
     "output_type": "execute_result"
    },
    {
     "data": {
      "image/png": "[encoded data removed]",
      "text/plain": [
       "<Figure size 1080x720 with 1 Axes>"
      ]
     },
     "metadata": {},
     "output_type": "display_data"
    }
   ],
   "source": [
    "plt.scatter(new_df.x1, new_df.y, color='black');\n",
    "m, b = np.polyfit(new_df.x1, new_df.y, 1)\n",
    "plt.xlabel('x1')\n",
    "plt.ylabel('y')\n",
    "\n",
    "plt.plot(new_df.x1, m*new_df.x1 + b)"
   ]
  },
  {
   "cell_type": "code",
   "execution_count": 48,
   "metadata": {},
   "outputs": [
    {
     "data": {
      "text/plain": [
       "[<matplotlib.lines.Line2D at 0x1f2d25383c8>]"
      ]
     },
     "execution_count": 48,
     "metadata": {},
     "output_type": "execute_result"
    },
    {
     "data": {
      "image/png": "[encoded data removed]",
      "text/plain": [
       "<Figure size 1080x720 with 1 Axes>"
      ]
     },
     "metadata": {},
     "output_type": "display_data"
    }
   ],
   "source": [
    "plt.scatter(new_df.x2, new_df.y, color='black');\n",
    "m, b = np.polyfit(new_df.x2, new_df.y, 1)\n",
    "plt.xlabel('x2')\n",
    "plt.ylabel('y')\n",
    "\n",
    "plt.plot(new_df.x2, m*new_df.x2 + b)"
   ]
  },
  {
   "cell_type": "code",
   "execution_count": 49,
   "metadata": {},
   "outputs": [
    {
     "data": {
      "text/plain": [
       "[<matplotlib.lines.Line2D at 0x1f2d2262ec8>]"
      ]
     },
     "execution_count": 49,
     "metadata": {},
     "output_type": "execute_result"
    },
    {
     "data": {
      "image/png": "[encoded data removed]",
      "text/plain": [
       "<Figure size 1080x720 with 1 Axes>"
      ]
     },
     "metadata": {},
     "output_type": "display_data"
    }
   ],
   "source": [
    "plt.scatter(new_df.x3, new_df.y, color='black');\n",
    "m, b = np.polyfit(new_df.x3, new_df.y, 1)\n",
    "plt.xlabel('x3')\n",
    "plt.ylabel('y')\n",
    "\n",
    "plt.plot(new_df.x3, m*new_df.x3 + b)"
   ]
  },
  {
   "cell_type": "code",
   "execution_count": 50,
   "metadata": {},
   "outputs": [
    {
     "data": {
      "text/plain": [
       "[<matplotlib.lines.Line2D at 0x1f2d24d3688>]"
      ]
     },
     "execution_count": 50,
     "metadata": {},
     "output_type": "execute_result"
    },
    {
     "data": {
      "image/png": "[encoded data removed]",
      "text/plain": [
       "<Figure size 1080x720 with 1 Axes>"
      ]
     },
     "metadata": {},
     "output_type": "display_data"
    }
   ],
   "source": [
    "plt.scatter(new_df.x4, new_df.y, color='black');\n",
    "m, b = np.polyfit(new_df.x4, new_df.y, 1)\n",
    "plt.xlabel('x4')\n",
    "plt.ylabel('y')\n",
    "\n",
    "plt.plot(new_df.x4, m*new_df.x4 + b)"
   ]
  },
  {
   "cell_type": "code",
   "execution_count": 51,
   "metadata": {},
   "outputs": [
    {
     "name": "stdout",
     "output_type": "stream",
     "text": [
      "0.024148249221333185\n",
      "0.054558779284850756\n",
      "0.14439831730108066\n",
      "-0.015974911784107704\n",
      "-1.268547458966132\n"
     ]
    }
   ],
   "source": [
    "#model\n",
    "X = new_df.drop('y',axis=1)\n",
    "y = new_df.y\n",
    "regress(X, y)"
   ]
  },
  {
   "cell_type": "code",
   "execution_count": 52,
   "metadata": {},
   "outputs": [
    {
     "data": {
      "text/html": [
       "<div>\n",
       "<style scoped>\n",
       "    .dataframe tbody tr th:only-of-type {\n",
       "        vertical-align: middle;\n",
       "    }\n",
       "\n",
       "    .dataframe tbody tr th {\n",
       "        vertical-align: top;\n",
       "    }\n",
       "\n",
       "    .dataframe thead th {\n",
       "        text-align: right;\n",
       "    }\n",
       "</style>\n",
       "<table border=\"1\" class=\"dataframe\">\n",
       "  <thead>\n",
       "    <tr style=\"text-align: right;\">\n",
       "      <th></th>\n",
       "      <th>y</th>\n",
       "      <th>x1</th>\n",
       "      <th>x2</th>\n",
       "      <th>x3</th>\n",
       "      <th>x4</th>\n",
       "    </tr>\n",
       "  </thead>\n",
       "  <tbody>\n",
       "    <tr>\n",
       "      <th>y</th>\n",
       "      <td>1.00000</td>\n",
       "      <td>-0.04384</td>\n",
       "      <td>-0.03168</td>\n",
       "      <td>0.05225</td>\n",
       "      <td>0.02764</td>\n",
       "    </tr>\n",
       "    <tr>\n",
       "      <th>x1</th>\n",
       "      <td>-0.04384</td>\n",
       "      <td>1.00000</td>\n",
       "      <td>-0.04776</td>\n",
       "      <td>0.03855</td>\n",
       "      <td>0.47982</td>\n",
       "    </tr>\n",
       "    <tr>\n",
       "      <th>x2</th>\n",
       "      <td>-0.03168</td>\n",
       "      <td>-0.04776</td>\n",
       "      <td>1.00000</td>\n",
       "      <td>-0.05131</td>\n",
       "      <td>-0.06700</td>\n",
       "    </tr>\n",
       "    <tr>\n",
       "      <th>x3</th>\n",
       "      <td>0.05225</td>\n",
       "      <td>0.03855</td>\n",
       "      <td>-0.05131</td>\n",
       "      <td>1.00000</td>\n",
       "      <td>0.89455</td>\n",
       "    </tr>\n",
       "    <tr>\n",
       "      <th>x4</th>\n",
       "      <td>0.02764</td>\n",
       "      <td>0.47982</td>\n",
       "      <td>-0.06700</td>\n",
       "      <td>0.89455</td>\n",
       "      <td>1.00000</td>\n",
       "    </tr>\n",
       "  </tbody>\n",
       "</table>\n",
       "</div>"
      ],
      "text/plain": [
       "          y       x1       x2       x3       x4\n",
       "y   1.00000 -0.04384 -0.03168  0.05225  0.02764\n",
       "x1 -0.04384  1.00000 -0.04776  0.03855  0.47982\n",
       "x2 -0.03168 -0.04776  1.00000 -0.05131 -0.06700\n",
       "x3  0.05225  0.03855 -0.05131  1.00000  0.89455\n",
       "x4  0.02764  0.47982 -0.06700  0.89455  1.00000"
      ]
     },
     "execution_count": 52,
     "metadata": {},
     "output_type": "execute_result"
    }
   ],
   "source": [
    "df.corr()\n",
    "#x4 has high corr with x1 and x3. Hence, needs to be dropped\n",
    "#x2 can be dropped seeing its graph i.e. no liear behaviour as such"
   ]
  },
  {
   "cell_type": "code",
   "execution_count": 53,
   "metadata": {},
   "outputs": [],
   "source": [
    "temp = df"
   ]
  },
  {
   "cell_type": "code",
   "execution_count": 54,
   "metadata": {},
   "outputs": [
    {
     "data": {
      "text/html": [
       "<div>\n",
       "<style scoped>\n",
       "    .dataframe tbody tr th:only-of-type {\n",
       "        vertical-align: middle;\n",
       "    }\n",
       "\n",
       "    .dataframe tbody tr th {\n",
       "        vertical-align: top;\n",
       "    }\n",
       "\n",
       "    .dataframe thead th {\n",
       "        text-align: right;\n",
       "    }\n",
       "</style>\n",
       "<table border=\"1\" class=\"dataframe\">\n",
       "  <thead>\n",
       "    <tr style=\"text-align: right;\">\n",
       "      <th></th>\n",
       "      <th>y</th>\n",
       "      <th>x1</th>\n",
       "      <th>x2</th>\n",
       "      <th>x3</th>\n",
       "    </tr>\n",
       "  </thead>\n",
       "  <tbody>\n",
       "    <tr>\n",
       "      <th>count</th>\n",
       "      <td>222.00000</td>\n",
       "      <td>222.00000</td>\n",
       "      <td>222.00000</td>\n",
       "      <td>222.00000</td>\n",
       "    </tr>\n",
       "    <tr>\n",
       "      <th>mean</th>\n",
       "      <td>0.01503</td>\n",
       "      <td>0.57260</td>\n",
       "      <td>10.33333</td>\n",
       "      <td>0.53183</td>\n",
       "    </tr>\n",
       "    <tr>\n",
       "      <th>std</th>\n",
       "      <td>0.83430</td>\n",
       "      <td>0.33108</td>\n",
       "      <td>2.82149</td>\n",
       "      <td>0.36882</td>\n",
       "    </tr>\n",
       "    <tr>\n",
       "      <th>min</th>\n",
       "      <td>-1.76548</td>\n",
       "      <td>0.01698</td>\n",
       "      <td>4.00000</td>\n",
       "      <td>0.00001</td>\n",
       "    </tr>\n",
       "    <tr>\n",
       "      <th>25%</th>\n",
       "      <td>-0.65076</td>\n",
       "      <td>0.31161</td>\n",
       "      <td>9.00000</td>\n",
       "      <td>0.14915</td>\n",
       "    </tr>\n",
       "    <tr>\n",
       "      <th>50%</th>\n",
       "      <td>0.04811</td>\n",
       "      <td>0.52892</td>\n",
       "      <td>10.00000</td>\n",
       "      <td>0.56879</td>\n",
       "    </tr>\n",
       "    <tr>\n",
       "      <th>75%</th>\n",
       "      <td>0.55764</td>\n",
       "      <td>0.81832</td>\n",
       "      <td>12.00000</td>\n",
       "      <td>0.91135</td>\n",
       "    </tr>\n",
       "    <tr>\n",
       "      <th>max</th>\n",
       "      <td>1.93784</td>\n",
       "      <td>1.48718</td>\n",
       "      <td>17.00000</td>\n",
       "      <td>0.99997</td>\n",
       "    </tr>\n",
       "  </tbody>\n",
       "</table>\n",
       "</div>"
      ],
      "text/plain": [
       "              y        x1        x2        x3\n",
       "count 222.00000 222.00000 222.00000 222.00000\n",
       "mean    0.01503   0.57260  10.33333   0.53183\n",
       "std     0.83430   0.33108   2.82149   0.36882\n",
       "min    -1.76548   0.01698   4.00000   0.00001\n",
       "25%    -0.65076   0.31161   9.00000   0.14915\n",
       "50%     0.04811   0.52892  10.00000   0.56879\n",
       "75%     0.55764   0.81832  12.00000   0.91135\n",
       "max     1.93784   1.48718  17.00000   0.99997"
      ]
     },
     "execution_count": 54,
     "metadata": {},
     "output_type": "execute_result"
    }
   ],
   "source": [
    "df=df.drop('x4',axis=1)\n",
    "new_df = removeOutliers(df)\n",
    "new_df.describe()"
   ]
  },
  {
   "cell_type": "code",
   "execution_count": 39,
   "metadata": {},
   "outputs": [
    {
     "name": "stdout",
     "output_type": "stream",
     "text": [
      "0.0197328346943364\n",
      "0.046653818471052544\n",
      "0.08811894213132643\n",
      "-0.01644972750642215\n",
      "0.2367479058549069\n"
     ]
    }
   ],
   "source": [
    "X=new_df.drop('y',axis=1)\n",
    "y=new_df.y\n",
    "regress(X, y)"
   ]
  },
  {
   "cell_type": "code",
   "execution_count": 40,
   "metadata": {},
   "outputs": [
    {
     "data": {
      "text/html": [
       "<div>\n",
       "<style scoped>\n",
       "    .dataframe tbody tr th:only-of-type {\n",
       "        vertical-align: middle;\n",
       "    }\n",
       "\n",
       "    .dataframe tbody tr th {\n",
       "        vertical-align: top;\n",
       "    }\n",
       "\n",
       "    .dataframe thead th {\n",
       "        text-align: right;\n",
       "    }\n",
       "</style>\n",
       "<table border=\"1\" class=\"dataframe\">\n",
       "  <thead>\n",
       "    <tr style=\"text-align: right;\">\n",
       "      <th></th>\n",
       "      <th>y</th>\n",
       "      <th>x1</th>\n",
       "      <th>x3</th>\n",
       "    </tr>\n",
       "  </thead>\n",
       "  <tbody>\n",
       "    <tr>\n",
       "      <th>count</th>\n",
       "      <td>228.00000</td>\n",
       "      <td>228.00000</td>\n",
       "      <td>228.00000</td>\n",
       "    </tr>\n",
       "    <tr>\n",
       "      <th>mean</th>\n",
       "      <td>0.01028</td>\n",
       "      <td>0.57173</td>\n",
       "      <td>0.53059</td>\n",
       "    </tr>\n",
       "    <tr>\n",
       "      <th>std</th>\n",
       "      <td>0.83017</td>\n",
       "      <td>0.32998</td>\n",
       "      <td>0.36895</td>\n",
       "    </tr>\n",
       "    <tr>\n",
       "      <th>min</th>\n",
       "      <td>-1.76548</td>\n",
       "      <td>0.01698</td>\n",
       "      <td>0.00001</td>\n",
       "    </tr>\n",
       "    <tr>\n",
       "      <th>25%</th>\n",
       "      <td>-0.63972</td>\n",
       "      <td>0.30807</td>\n",
       "      <td>0.14942</td>\n",
       "    </tr>\n",
       "    <tr>\n",
       "      <th>50%</th>\n",
       "      <td>0.04811</td>\n",
       "      <td>0.52892</td>\n",
       "      <td>0.56879</td>\n",
       "    </tr>\n",
       "    <tr>\n",
       "      <th>75%</th>\n",
       "      <td>0.51384</td>\n",
       "      <td>0.81817</td>\n",
       "      <td>0.91108</td>\n",
       "    </tr>\n",
       "    <tr>\n",
       "      <th>max</th>\n",
       "      <td>1.93784</td>\n",
       "      <td>1.48718</td>\n",
       "      <td>0.99997</td>\n",
       "    </tr>\n",
       "  </tbody>\n",
       "</table>\n",
       "</div>"
      ],
      "text/plain": [
       "              y        x1        x3\n",
       "count 228.00000 228.00000 228.00000\n",
       "mean    0.01028   0.57173   0.53059\n",
       "std     0.83017   0.32998   0.36895\n",
       "min    -1.76548   0.01698   0.00001\n",
       "25%    -0.63972   0.30807   0.14942\n",
       "50%     0.04811   0.52892   0.56879\n",
       "75%     0.51384   0.81817   0.91108\n",
       "max     1.93784   1.48718   0.99997"
      ]
     },
     "execution_count": 40,
     "metadata": {},
     "output_type": "execute_result"
    }
   ],
   "source": [
    "df = temp\n",
    "df=df.drop('x4',axis=1)\n",
    "new_df = removeOutliers(df)\n",
    "new_df.describe()"
   ]
  },
  {
   "cell_type": "code",
   "execution_count": null,
   "metadata": {},
   "outputs": [],
   "source": []
  }
 ],
 "metadata": {
  "kernelspec": {
   "display_name": "Python 3",
   "language": "python",
   "name": "python3"
  },
  "language_info": {
   "codemirror_mode": {
    "name": "ipython",
    "version": 3
   },
   "file_extension": ".py",
   "mimetype": "text/x-python",
   "name": "python",
   "nbconvert_exporter": "python",
   "pygments_lexer": "ipython3",
   "version": "3.7.6"
  }
 },
 "nbformat": 4,
 "nbformat_minor": 4
}
